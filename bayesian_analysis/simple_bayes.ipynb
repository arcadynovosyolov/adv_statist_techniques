{
 "cells": [
  {
   "cell_type": "markdown",
   "metadata": {},
   "source": [
    "# Simple application of Bayesian analysis"
   ]
  },
  {
   "cell_type": "markdown",
   "metadata": {},
   "source": [
    "Bayesian analysis of systems using data is based on Bayes theorem, and has the form\n",
    "\n",
    "$$\n",
    "P\\left(A\\left|data\\right.\\right)=\\frac{P\\left(data|A\\right)P(A)}{P(data)}.\n",
    "$$\n",
    "\n",
    "Conditional probabilities of different versions of data given events of interest, are usually known from system construction. Prior probabilities of events of interest $A$ are based on knowledge acquired to the moment. After observing actual data one may update probability of $A$ using the Bayes theorem.\n",
    "\n",
    "In the example here events of interest $A$ are formed from a combination of independent factors, so direct using of the Bayes formula becomes cumbersome. To make things transparent, we use Monte Carlo simulations to approximate updated probabilities."
   ]
  },
  {
   "cell_type": "markdown",
   "metadata": {},
   "source": [
    "## 1. Emily, Car, Stock Market, Sweepstakes, Vacation and Bayes."
   ]
  },
  {
   "cell_type": "markdown",
   "metadata": {},
   "source": [
    "Emily is taking Bayesian Analysis course. She believes she will get an A with probability 0.6, a B with probability 0.3, and a C or less with probability 0.1. At the end of semester she will get a car as a present form her (very) rich uncle depending on her class performance. For getting an A in the course Emily will get a car with probability 0.8, for B with probability 0.5, and for anything less than B, she will get a car with probability of 0.2. These are the probabilities if the market is bullish. If the market is bearish, the uncle is less likely to make expensive presents, and the above probabilities are 0.5, 0.3, and 0.1, respectively. The probabilities of bullish and bearish market are equal, 0.5 each. If Emily gets a car, she would travel to Redington Shores with probability 0.7, or stay on campus with probability 0.3. If she does not get a car, these two probabilities are 0.2 and 0.8, respectively. Independently, Emily may be a lucky winner of a sweepstake lottery for a free air ticket and vacation in hotel Sol at Redington Shores. The chance to win the sweepstake is 0.001, but if Emily wins, she will go to vacation with probability of 0.99, irrespective of what happened with the car."
   ]
  },
  {
   "cell_type": "markdown",
   "metadata": {},
   "source": [
    "After the semester was over you learned that Emily is at Redington Shores.\n",
    "- (a) What is the probability that she got a car?\n",
    "- (b) What is the probability that she won the sweepstakes?\n",
    "- (c) What is the probability that she got a B in the course?\n",
    "- (d) What is the probability that the market was bearish?"
   ]
  },
  {
   "cell_type": "code",
   "execution_count": 1,
   "metadata": {},
   "outputs": [
    {
     "name": "stdout",
     "output_type": "stream",
     "text": [
      "Populating the interactive namespace from numpy and matplotlib\n"
     ]
    }
   ],
   "source": [
    "import numpy as np\n",
    "import pandas as pd\n",
    "# from scipy.special import comb\n",
    "import scipy.stats as ss\n",
    "%pylab inline"
   ]
  },
  {
   "cell_type": "code",
   "execution_count": 2,
   "metadata": {},
   "outputs": [],
   "source": [
    "p_grade = np.array([0.6, 0.3, 0.1])       # A, B, C\n",
    "p_market = np.array([0.5, 0.5])           # bull, bear\n",
    "p_car_grade_market = np.array([[0.8, 0.5, 0.2], [0.5, 0.3, 0.1]])\n",
    "p_car_travel = np.array([0.2, 0.7])\n",
    "p_win = np.array([0.999, 0.001])          # no win, win\n",
    "p_win_travel = np.array([0.01, 0.99])     # travel, no travel | win"
   ]
  },
  {
   "cell_type": "code",
   "execution_count": 3,
   "metadata": {},
   "outputs": [
    {
     "data": {
      "text/html": [
       "<div>\n",
       "<style scoped>\n",
       "    .dataframe tbody tr th:only-of-type {\n",
       "        vertical-align: middle;\n",
       "    }\n",
       "\n",
       "    .dataframe tbody tr th {\n",
       "        vertical-align: top;\n",
       "    }\n",
       "\n",
       "    .dataframe thead th {\n",
       "        text-align: right;\n",
       "    }\n",
       "</style>\n",
       "<table border=\"1\" class=\"dataframe\">\n",
       "  <thead>\n",
       "    <tr style=\"text-align: right;\">\n",
       "      <th></th>\n",
       "      <th>grade</th>\n",
       "      <th>market</th>\n",
       "      <th>lottery</th>\n",
       "      <th>p_car</th>\n",
       "      <th>car</th>\n",
       "      <th>p_travel_car</th>\n",
       "      <th>p_travel_win</th>\n",
       "      <th>car_travel</th>\n",
       "      <th>win_travel</th>\n",
       "      <th>travel</th>\n",
       "    </tr>\n",
       "  </thead>\n",
       "  <tbody>\n",
       "    <tr>\n",
       "      <th>0</th>\n",
       "      <td>0</td>\n",
       "      <td>0</td>\n",
       "      <td>0</td>\n",
       "      <td>0.8</td>\n",
       "      <td>0</td>\n",
       "      <td>0.2</td>\n",
       "      <td>0.01</td>\n",
       "      <td>False</td>\n",
       "      <td>False</td>\n",
       "      <td>False</td>\n",
       "    </tr>\n",
       "    <tr>\n",
       "      <th>1</th>\n",
       "      <td>1</td>\n",
       "      <td>1</td>\n",
       "      <td>0</td>\n",
       "      <td>0.3</td>\n",
       "      <td>0</td>\n",
       "      <td>0.2</td>\n",
       "      <td>0.01</td>\n",
       "      <td>False</td>\n",
       "      <td>False</td>\n",
       "      <td>False</td>\n",
       "    </tr>\n",
       "    <tr>\n",
       "      <th>2</th>\n",
       "      <td>1</td>\n",
       "      <td>0</td>\n",
       "      <td>0</td>\n",
       "      <td>0.5</td>\n",
       "      <td>1</td>\n",
       "      <td>0.7</td>\n",
       "      <td>0.01</td>\n",
       "      <td>True</td>\n",
       "      <td>False</td>\n",
       "      <td>True</td>\n",
       "    </tr>\n",
       "    <tr>\n",
       "      <th>3</th>\n",
       "      <td>0</td>\n",
       "      <td>1</td>\n",
       "      <td>0</td>\n",
       "      <td>0.5</td>\n",
       "      <td>1</td>\n",
       "      <td>0.7</td>\n",
       "      <td>0.01</td>\n",
       "      <td>True</td>\n",
       "      <td>False</td>\n",
       "      <td>True</td>\n",
       "    </tr>\n",
       "    <tr>\n",
       "      <th>4</th>\n",
       "      <td>1</td>\n",
       "      <td>0</td>\n",
       "      <td>0</td>\n",
       "      <td>0.5</td>\n",
       "      <td>0</td>\n",
       "      <td>0.2</td>\n",
       "      <td>0.01</td>\n",
       "      <td>False</td>\n",
       "      <td>False</td>\n",
       "      <td>False</td>\n",
       "    </tr>\n",
       "    <tr>\n",
       "      <th>5</th>\n",
       "      <td>1</td>\n",
       "      <td>0</td>\n",
       "      <td>0</td>\n",
       "      <td>0.5</td>\n",
       "      <td>1</td>\n",
       "      <td>0.7</td>\n",
       "      <td>0.01</td>\n",
       "      <td>True</td>\n",
       "      <td>False</td>\n",
       "      <td>True</td>\n",
       "    </tr>\n",
       "    <tr>\n",
       "      <th>6</th>\n",
       "      <td>1</td>\n",
       "      <td>1</td>\n",
       "      <td>0</td>\n",
       "      <td>0.3</td>\n",
       "      <td>0</td>\n",
       "      <td>0.2</td>\n",
       "      <td>0.01</td>\n",
       "      <td>False</td>\n",
       "      <td>False</td>\n",
       "      <td>False</td>\n",
       "    </tr>\n",
       "    <tr>\n",
       "      <th>7</th>\n",
       "      <td>0</td>\n",
       "      <td>1</td>\n",
       "      <td>0</td>\n",
       "      <td>0.5</td>\n",
       "      <td>1</td>\n",
       "      <td>0.7</td>\n",
       "      <td>0.01</td>\n",
       "      <td>True</td>\n",
       "      <td>False</td>\n",
       "      <td>True</td>\n",
       "    </tr>\n",
       "    <tr>\n",
       "      <th>8</th>\n",
       "      <td>0</td>\n",
       "      <td>0</td>\n",
       "      <td>0</td>\n",
       "      <td>0.8</td>\n",
       "      <td>1</td>\n",
       "      <td>0.7</td>\n",
       "      <td>0.01</td>\n",
       "      <td>True</td>\n",
       "      <td>False</td>\n",
       "      <td>True</td>\n",
       "    </tr>\n",
       "    <tr>\n",
       "      <th>9</th>\n",
       "      <td>0</td>\n",
       "      <td>0</td>\n",
       "      <td>0</td>\n",
       "      <td>0.8</td>\n",
       "      <td>0</td>\n",
       "      <td>0.2</td>\n",
       "      <td>0.01</td>\n",
       "      <td>False</td>\n",
       "      <td>False</td>\n",
       "      <td>False</td>\n",
       "    </tr>\n",
       "  </tbody>\n",
       "</table>\n",
       "</div>"
      ],
      "text/plain": [
       "   grade  market  lottery  p_car  car  p_travel_car  p_travel_win  car_travel  \\\n",
       "0      0       0        0    0.8    0           0.2          0.01       False   \n",
       "1      1       1        0    0.3    0           0.2          0.01       False   \n",
       "2      1       0        0    0.5    1           0.7          0.01        True   \n",
       "3      0       1        0    0.5    1           0.7          0.01        True   \n",
       "4      1       0        0    0.5    0           0.2          0.01       False   \n",
       "5      1       0        0    0.5    1           0.7          0.01        True   \n",
       "6      1       1        0    0.3    0           0.2          0.01       False   \n",
       "7      0       1        0    0.5    1           0.7          0.01        True   \n",
       "8      0       0        0    0.8    1           0.7          0.01        True   \n",
       "9      0       0        0    0.8    0           0.2          0.01       False   \n",
       "\n",
       "   win_travel  travel  \n",
       "0       False   False  \n",
       "1       False   False  \n",
       "2       False    True  \n",
       "3       False    True  \n",
       "4       False   False  \n",
       "5       False    True  \n",
       "6       False   False  \n",
       "7       False    True  \n",
       "8       False    True  \n",
       "9       False   False  "
      ]
     },
     "execution_count": 3,
     "metadata": {},
     "output_type": "execute_result"
    }
   ],
   "source": [
    "# number of Monte Carlo trials\n",
    "n_trials = 1000000\n",
    "\n",
    "# function for applying\n",
    "lam = lambda x: np.random.uniform() < x\n",
    "\n",
    "# fill the dataframe with events\n",
    "grades = np.random.choice(range(3), size=n_trials, p=p_grade)\n",
    "df = pd.DataFrame(grades, columns=['grade'])\n",
    "market = np.random.choice(range(2), size=n_trials, p=p_market)\n",
    "df['market'] = market\n",
    "lottery = np.random.choice(range(2), size=n_trials, p=p_win)\n",
    "df['lottery'] = lottery\n",
    "df['p_car'] = p_car_grade_market[df.market, df.grade]\n",
    "df['car'] = df.p_car.apply(lambda p: np.random.uniform() < p).astype('int')\n",
    "df['p_travel_car'] = p_car_travel[df.car]\n",
    "df['p_travel_win'] = p_win_travel[df.lottery]\n",
    "df['car_travel'] = df.p_travel_car.apply(lam)\n",
    "df['win_travel'] = df.p_travel_win.apply(lam)\n",
    "df['travel'] = df.car_travel | df.win_travel\n",
    "df.head(10)"
   ]
  },
  {
   "cell_type": "markdown",
   "metadata": {},
   "source": [
    "## Verification"
   ]
  },
  {
   "cell_type": "code",
   "execution_count": 4,
   "metadata": {},
   "outputs": [
    {
     "data": {
      "text/plain": [
       "0    0.600022\n",
       "1    0.299934\n",
       "2    0.100044\n",
       "Name: grade, dtype: float64"
      ]
     },
     "execution_count": 4,
     "metadata": {},
     "output_type": "execute_result"
    }
   ],
   "source": [
    "df.grade.value_counts(normalize=True)"
   ]
  },
  {
   "cell_type": "code",
   "execution_count": 5,
   "metadata": {},
   "outputs": [
    {
     "data": {
      "text/plain": [
       "1    0.50023\n",
       "0    0.49977\n",
       "Name: market, dtype: float64"
      ]
     },
     "execution_count": 5,
     "metadata": {},
     "output_type": "execute_result"
    }
   ],
   "source": [
    "df.market.value_counts(normalize=True)"
   ]
  },
  {
   "cell_type": "code",
   "execution_count": 6,
   "metadata": {},
   "outputs": [
    {
     "data": {
      "text/plain": [
       "0.8    0.600142\n",
       "0.5    0.300180\n",
       "0.2    0.099678\n",
       "Name: p_car, dtype: float64"
      ]
     },
     "execution_count": 6,
     "metadata": {},
     "output_type": "execute_result"
    }
   ],
   "source": [
    "df[df.market == 0].p_car.value_counts(normalize=True)"
   ]
  },
  {
   "cell_type": "code",
   "execution_count": 7,
   "metadata": {},
   "outputs": [
    {
     "data": {
      "text/plain": [
       "0.5    0.599902\n",
       "0.3    0.299688\n",
       "0.1    0.100410\n",
       "Name: p_car, dtype: float64"
      ]
     },
     "execution_count": 7,
     "metadata": {},
     "output_type": "execute_result"
    }
   ],
   "source": [
    "df[df.market == 1].p_car.value_counts(normalize=True)"
   ]
  },
  {
   "cell_type": "code",
   "execution_count": 8,
   "metadata": {},
   "outputs": [
    {
     "data": {
      "text/plain": [
       "0    0.999036\n",
       "1    0.000964\n",
       "Name: lottery, dtype: float64"
      ]
     },
     "execution_count": 8,
     "metadata": {},
     "output_type": "execute_result"
    }
   ],
   "source": [
    "df.lottery.value_counts(normalize=True)"
   ]
  },
  {
   "cell_type": "markdown",
   "metadata": {},
   "source": [
    "## Answers"
   ]
  },
  {
   "cell_type": "markdown",
   "metadata": {},
   "source": [
    "### Select records correspoding the data observed (Emily is at Redington Shores)"
   ]
  },
  {
   "cell_type": "code",
   "execution_count": 9,
   "metadata": {},
   "outputs": [],
   "source": [
    "# Emily is at Reddington shores\n",
    "dfa = df[df.travel == 1]"
   ]
  },
  {
   "cell_type": "markdown",
   "metadata": {},
   "source": [
    "### (a) Probability of getting a car"
   ]
  },
  {
   "cell_type": "code",
   "execution_count": 10,
   "metadata": {},
   "outputs": [
    {
     "name": "stdout",
     "output_type": "stream",
     "text": [
      "Conditional probability of getting a car = 0.788\n"
     ]
    }
   ],
   "source": [
    "# conditional probability of getting a car\n",
    "pc_car = dfa.car.mean()\n",
    "print('Conditional probability of getting a car = {0:.3f}'.format(pc_car))"
   ]
  },
  {
   "cell_type": "markdown",
   "metadata": {},
   "source": [
    "### (b) Probability of winning sweepstakes"
   ]
  },
  {
   "cell_type": "code",
   "execution_count": 11,
   "metadata": {},
   "outputs": [
    {
     "name": "stdout",
     "output_type": "stream",
     "text": [
      "Conditional probability of winning the sweepstakes = 0.023\n"
     ]
    }
   ],
   "source": [
    "pc_win = dfa.win_travel.mean()\n",
    "print('Conditional probability of winning the sweepstakes = {0:.3f}'.format(pc_win))"
   ]
  },
  {
   "cell_type": "markdown",
   "metadata": {},
   "source": [
    "### (c) Probability of getting the B grade"
   ]
  },
  {
   "cell_type": "code",
   "execution_count": 12,
   "metadata": {},
   "outputs": [
    {
     "name": "stdout",
     "output_type": "stream",
     "text": [
      "Conditional probability of getting the B grade = 0.261\n"
     ]
    }
   ],
   "source": [
    "pc_b = (dfa.grade == 1).mean()\n",
    "print('Conditional probability of getting the B grade = {0:.3f}'.format(pc_b))"
   ]
  },
  {
   "cell_type": "markdown",
   "metadata": {},
   "source": [
    "### (d) Probability that the market is bearish"
   ]
  },
  {
   "cell_type": "code",
   "execution_count": 13,
   "metadata": {},
   "outputs": [
    {
     "name": "stdout",
     "output_type": "stream",
     "text": [
      "Conditional probability of the market being bearish = 0.434\n"
     ]
    }
   ],
   "source": [
    "pc_be = (dfa.market == 1).mean()\n",
    "print('Conditional probability of the market being bearish = {0:.3f}'.format(pc_be))"
   ]
  },
  {
   "cell_type": "markdown",
   "metadata": {},
   "source": [
    "## Plots"
   ]
  },
  {
   "cell_type": "code",
   "execution_count": 14,
   "metadata": {},
   "outputs": [
    {
     "data": {
      "image/png": "[encoded data removed]",
      "text/plain": [
       "<Figure size 432x288 with 1 Axes>"
      ]
     },
     "metadata": {
      "needs_background": "light"
     },
     "output_type": "display_data"
    }
   ],
   "source": [
    "dfp = pd.DataFrame(p_grade, index=['A', 'B', 'C'], columns=['prior'])\n",
    "ls = [(dfa.grade == k).mean() for k in range(3)]\n",
    "dfp['posterior'] = ls\n",
    "dfp.plot.bar(title='Probabilities of grades');\n",
    "savefig('prob_grades.png');"
   ]
  },
  {
   "cell_type": "markdown",
   "metadata": {},
   "source": [
    "## 2. Negative binomial distribution update"
   ]
  },
  {
   "cell_type": "markdown",
   "metadata": {},
   "source": [
    "The number of failures until the fourth success in a series of independent trials is observed in 11 independent experiments: 5, 2, 2, 0, 1, 4, 3, 5, 0, 7, and 1 (You may link this to your favorite story, like, on multiple occasions Larry Bird shoots from a distance until he makes the 4th score, number of misses is counted). You are interested in probability p of a success in a single trial. Assume that p is given a beta prior with parameters\n",
    "- (a) $\\alpha=\\beta=1$;\n",
    "- (b) $\\alpha=\\beta=0.5$;\n",
    "- (c) $\\alpha=9,\\beta=1$.\n",
    "\n",
    "For each case (a)-(c) find: Bayes estimator of p, the 95% credible set for p, and the posterior probability of hypothesis H : p ≥ 0.8."
   ]
  },
  {
   "cell_type": "markdown",
   "metadata": {},
   "source": [
    "[Theory here, theorem 6](http://halweb.uc3m.es/esp/Personal/personas/mwiper/docencia/English/PhD_Bayesian_Statistics/ch3_2009.pdf) tells us that number of failures until the $r=4$-th success is observed follows the negative binomial distribution with probability mass function\n",
    "\n",
    "$$\n",
    "P(X=k|\\theta)=C_{k+r-1}^k\\;\\theta^r(1-\\theta)^k,\\;k=0, 1, 2, \\dots,\n",
    "$$\n",
    "\n",
    "where $\\theta$ stands for the success probability in a single trial."
   ]
  },
  {
   "cell_type": "markdown",
   "metadata": {},
   "source": [
    "If we choose Beta distribution with parameters $\\alpha, \\beta$ as a prior for $\\theta$, then posterior distribution of $\\theta$ given data $x=(x_1,\\dots,x_n)$ is Beta with parameters $\\alpha + rn, \\beta + \\sum_{i=1}^n x_i$."
   ]
  },
  {
   "cell_type": "markdown",
   "metadata": {},
   "source": [
    "### Solution"
   ]
  },
  {
   "cell_type": "code",
   "execution_count": 15,
   "metadata": {},
   "outputs": [],
   "source": [
    "# observations data\n",
    "x = np.array([5, 2, 2, 0, 1, 4, 3, 5, 0, 7, 1])"
   ]
  },
  {
   "cell_type": "code",
   "execution_count": 16,
   "metadata": {},
   "outputs": [],
   "source": [
    "def plot_one(alpha=1, beta=1, r=4):\n",
    "    \"\"\" \"\"\"\n",
    "    n = x.size\n",
    "    alpha_upd = alpha + r * n\n",
    "    beta_upd = beta + x.sum()\n",
    "    z = np.linspace(0, 1, 101)\n",
    "    se = pd.Series(ss.beta.pdf(z, alpha, beta), index=z)\n",
    "    se_upd = pd.Series(ss.beta.pdf(z, alpha_upd, beta_upd), index=z)\n",
    "    se.plot(label='prior, ({0}, {1})'.format(alpha, beta));\n",
    "    se_upd.plot(label='posterior, ({0}, {1})'.format(alpha_upd, beta_upd));\n",
    "    inter = ss.beta.interval(0.95, alpha_upd, beta_upd)\n",
    "    title('95% credible set ({0:.3f}, {1:.3f})'.format(inter[0], inter[1]));\n",
    "    legend();"
   ]
  },
  {
   "cell_type": "markdown",
   "metadata": {},
   "source": [
    "#### (a) $\\alpha=\\beta=1$"
   ]
  },
  {
   "cell_type": "code",
   "execution_count": 17,
   "metadata": {},
   "outputs": [
    {
     "data": {
      "image/png": "[encoded data removed]",
      "text/plain": [
       "<Figure size 432x288 with 1 Axes>"
      ]
     },
     "metadata": {
      "needs_background": "light"
     },
     "output_type": "display_data"
    }
   ],
   "source": [
    "plot_one()"
   ]
  },
  {
   "cell_type": "markdown",
   "metadata": {},
   "source": [
    "#### (b) $\\alpha=\\beta=0.5$"
   ]
  },
  {
   "cell_type": "code",
   "execution_count": 18,
   "metadata": {},
   "outputs": [
    {
     "data": {
      "image/png": "[encoded data removed]",
      "text/plain": [
       "<Figure size 432x288 with 1 Axes>"
      ]
     },
     "metadata": {
      "needs_background": "light"
     },
     "output_type": "display_data"
    }
   ],
   "source": [
    "plot_one(alpha=0.5, beta=0.5)"
   ]
  },
  {
   "cell_type": "markdown",
   "metadata": {},
   "source": [
    "#### (c) $\\alpha=9,\\;\\beta=1$"
   ]
  },
  {
   "cell_type": "code",
   "execution_count": 19,
   "metadata": {},
   "outputs": [
    {
     "data": {
      "image/png": "[encoded data removed]",
      "text/plain": [
       "<Figure size 432x288 with 1 Axes>"
      ]
     },
     "metadata": {
      "needs_background": "light"
     },
     "output_type": "display_data"
    }
   ],
   "source": [
    "plot_one(alpha=9, beta=1)"
   ]
  }
 ],
 "metadata": {
  "kernelspec": {
   "display_name": "Python 3",
   "language": "python",
   "name": "python3"
  },
  "language_info": {
   "codemirror_mode": {
    "name": "ipython",
    "version": 3
   },
   "file_extension": ".py",
   "mimetype": "text/x-python",
   "name": "python",
   "nbconvert_exporter": "python",
   "pygments_lexer": "ipython3",
   "version": "3.7.3"
  }
 },
 "nbformat": 4,
 "nbformat_minor": 4
}
