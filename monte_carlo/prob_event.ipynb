{
 "cells": [
  {
   "cell_type": "markdown",
   "metadata": {},
   "source": [
    "# Monte Carlo application: estimating probability of an event"
   ]
  },
  {
   "cell_type": "markdown",
   "metadata": {},
   "source": [
    "Estimating probability of an event $A$ via Monte Carlo method is pretty simple. We need to select a number of trials $N$, reproduce $N$ samples from the sample space, and count $\\#(N_A)$ the number of the event $A$ occurrence in the sequence of $N$ trials. Finally, the probability estimate looks like this:\n",
    "\n",
    "$$\n",
    "\\widehat{P(A)} = \\frac{\\#(N_A)}{N}\\,.\n",
    "$$\n",
    "\n",
    "It is also convenient to use indicator function of the event, which is\n",
    "\n",
    "$$\n",
    "I_A(\\omega) = \\left\\{\n",
    "\\begin{array}{ll}\n",
    "1,& \\mbox{ if event A occurs at the experiment }\\omega,\\\\\n",
    "0,& \\mbox{ if event A does not occur at the experiment }\\omega\n",
    "\\end{array}\n",
    "\\right.,\n",
    "$$\n",
    "\n",
    "now in a sequence of experiments $\\omega_1,\\dots,\\omega_N$ we have\n",
    "\n",
    "$$\n",
    "\\widehat{P(A)} = \\frac1{N}\\sum_{i=1}^N I_A(\\omega_i),\n",
    "$$\n",
    "\n",
    "or simply the mean indicator function value."
   ]
  },
  {
   "cell_type": "markdown",
   "metadata": {},
   "source": [
    "## Calculating $\\pi$"
   ]
  },
  {
   "cell_type": "markdown",
   "metadata": {},
   "source": [
    "### Problem statement"
   ]
  },
  {
   "cell_type": "markdown",
   "metadata": {},
   "source": [
    "Calculating $\\pi$ is a very simple example of Monte Carlo method application. As we know, if a circle raduis is $r$, its area equals to $\\pi r^2$. Consider a square with unit side and a quarter of unit circle inside as shown in the picture below. Areas ratio of the circle segment and the square equals to $\\pi / 4$, so define an event $A$ as falling inside the circle segment a point drawn at random in the square. The event probability $P(A)=\\pi/4$, so we may estimate $\\pi$ by\n",
    "\n",
    "$$\n",
    "\\widehat{\\pi} = 4 * \\widehat{P(A)}\n",
    "$$\n",
    "\n",
    "with $\\widehat{P(A)}$ obtained by the Monte Carlo method described above."
   ]
  },
  {
   "cell_type": "markdown",
   "metadata": {},
   "source": [
    "<center>\n",
    "<img src=\"img/prob_event_12.png\" width=\"700\" height=\"320\">\n",
    "</center>"
   ]
  },
  {
   "cell_type": "markdown",
   "metadata": {},
   "source": [
    "### Calculating"
   ]
  },
  {
   "cell_type": "code",
   "execution_count": 1,
   "metadata": {},
   "outputs": [
    {
     "name": "stdout",
     "output_type": "stream",
     "text": [
      "pi value estimate = 3.1392\n"
     ]
    }
   ],
   "source": [
    "# import the numeric library needed for calculations\n",
    "import numpy as np\n",
    "\n",
    "# select number of trials\n",
    "N = 1000000\n",
    "\n",
    "# create a random sample from the uniform distribution in the unit square\n",
    "x = np.random.uniform(size=(1000000, 2))\n",
    "\n",
    "# calculate indicator function of the event A values\n",
    "ind_func_values = (np.linalg.norm(x, axis=1) <= 1)\n",
    "\n",
    "# calculate indicator function mean\n",
    "prob_estim = ind_func_values.mean()\n",
    "\n",
    "# calculate pi extimate\n",
    "pi_estim = 4 * prob_estim\n",
    "\n",
    "# print the result\n",
    "print('pi value estimate = {0:.4f}'.format(pi_estim))"
   ]
  },
  {
   "cell_type": "markdown",
   "metadata": {},
   "source": [
    "## Probability for origin to lie inside a random tetrahedron"
   ]
  },
  {
   "cell_type": "markdown",
   "metadata": {},
   "source": [
    "### Problem statement"
   ]
  },
  {
   "cell_type": "markdown",
   "metadata": {},
   "source": [
    "In the [video](https://www.youtube.com/watch?v=OkmNXy7er84) the following problem has been considered: suppose a tetrahedron is selected ar random so that all its vertices lie in a sphere centered at the origin. What is the probability that the origin lies inside this tetrahedron?\n",
    "\n",
    "The video explains analytical solution for the problem, it equals 1/8. Here we present a Monte Carlo solution, which approximates the analytical one."
   ]
  },
  {
   "cell_type": "markdown",
   "metadata": {},
   "source": [
    "### Uniform distribution on a unit sphere"
   ]
  },
  {
   "cell_type": "markdown",
   "metadata": {},
   "source": [
    "Let $x, y$ be a horizontal plane, and $z$ directs upwards. Next for a vector $(x, y, z)$ on the unit sphere we denote $\\alpha$ the angle between its projection to $x, y$ plane and the $x$ axis, and $\\beta$ - the angle between the vector and the $z$ axis, see figure below. Note that $\\alpha\\in[0, 2\\pi)$ and $\\beta\\in[-\\pi/2,\\pi/2]$.\n",
    "\n",
    "For a random point to be distributed uniformly on the unit sphere, we should have uniform distibution of $\\alpha$, and the distribution of $\\beta$ with density, proportional to the distance of projection $(x,y)$ from the origin, which is equal to $\\cos \\beta$. Thus the density is\n",
    "\n",
    "$$\n",
    "f_\\beta(t) = \\frac{\\cos t}2,\\;t\\in[-\\pi/2, \\pi/2],\n",
    "$$\n",
    "\n",
    "and the CDF equals to\n",
    "\n",
    "$$\n",
    "F_\\beta(t) = \\frac{1 + \\sin t}2,\\;t\\in[-\\pi/2, \\pi/2].\n",
    "$$\n",
    "\n",
    "The quantile function appears to be\n",
    "\n",
    "$$\n",
    "F_\\beta^{-1}(u) = {\\rm arc}\\sin(2u - 1),\\;u\\in[0, 1].\n",
    "$$"
   ]
  },
  {
   "cell_type": "markdown",
   "metadata": {},
   "source": [
    "Now we may calculate the cartesian coordinates of the random points\n",
    "\n",
    "\\begin{align*}\n",
    "z &= \\sin\\beta,\\\\\n",
    "r &= \\cos\\beta,\\\\\n",
    "x &= r\\cos\\alpha,\\\\\n",
    "y &= r\\sin\\alpha.\n",
    "\\end{align*}"
   ]
  },
  {
   "cell_type": "markdown",
   "metadata": {},
   "source": [
    "The $\\alpha$ and $\\beta$ angles are shown in the fugires below."
   ]
  },
  {
   "cell_type": "markdown",
   "metadata": {},
   "source": [
    "<center>\n",
    "<img src=\"img/prob_event_34.png\" width=\"700\" height=\"334\">\n",
    "</center>"
   ]
  },
  {
   "cell_type": "markdown",
   "metadata": {},
   "source": [
    "### Event $A$ definition"
   ]
  },
  {
   "cell_type": "markdown",
   "metadata": {},
   "source": [
    "Given 4 independent points $T_1 = (x_1, y_1, z_1), T_2 = (x_2, y_2, z_2), T_3 = (x_3, y_3, z_3), T_4 = (x_4, y_4, z_4)$ from the uniform distribution on a unit sphere, we need to find **baricentric** coordinates of the origin $(0, 0, 0)$ with respect to the points. The baricentric coordinates $\\mu_1, \\mu_2, \\mu_3, \\mu_4$ satisfy the following vector eqiation $\\mu_1T_1 + \\mu_2T_2 + \\mu_3T_3 + \\mu_4T_4 = 0$, and additionally the condition $\\mu_1 + \\mu_2 + \\mu_3 + \\mu_4 = 1$, thus leading to 4 scalar equations with respect to 4 unknowns:\n",
    "\n",
    "$$\n",
    "\\left(\n",
    "\\begin{array}{cccc}\n",
    "x_1&x_2&x_3&x_4\\\\\n",
    "y_1&y_2&y_3&y_4\\\\\n",
    "z_1&z_2&z_3&z_4\\\\\n",
    "1&1&1&1\n",
    "\\end{array}\n",
    "\\right)\n",
    "\\left(\n",
    "\\begin{array}{c}\n",
    "\\mu_1\\\\\n",
    "\\mu_2\\\\\n",
    "\\mu_3\\\\\n",
    "\\mu_4\n",
    "\\end{array}\n",
    "\\right) =\n",
    "\\left(\n",
    "\\begin{array}{c}\n",
    "0\\\\\n",
    "0\\\\\n",
    "0\\\\\n",
    "1\n",
    "\\end{array}\n",
    "\\right)\\,,\n",
    "$$\n"
   ]
  },
  {
   "cell_type": "markdown",
   "metadata": {},
   "source": [
    "Event $A$ occurs, if all baricentric coordinates are non-negative:\n",
    "$$\n",
    "A = \\{\\mu_1, \\mu_2, \\mu_3, \\mu_4 \\geq0\\}.\n",
    "$$\n",
    "\n",
    "In this case the origin lies inside a tetrahedron."
   ]
  },
  {
   "cell_type": "markdown",
   "metadata": {},
   "source": [
    "### Monte Carlo solution"
   ]
  },
  {
   "cell_type": "markdown",
   "metadata": {},
   "source": [
    "To estimate the probability, we simulate $N=$ one million samples of 4 independent uniform points on the unit sphere, solve the linear system for each sample, check the signs of all baricentric coordinates, and calculate the target ratio."
   ]
  },
  {
   "cell_type": "markdown",
   "metadata": {},
   "source": [
    "### Implementation"
   ]
  },
  {
   "cell_type": "code",
   "execution_count": 2,
   "metadata": {},
   "outputs": [],
   "source": [
    "# quantile function\n",
    "appf = lambda z: np.arcsin(2 * z - 1)\n",
    "\n",
    "# number of Monte Carlon trials required\n",
    "n_trials = 1000000\n",
    "\n",
    "# dimension of the problem\n",
    "dim = 3"
   ]
  },
  {
   "cell_type": "code",
   "execution_count": 3,
   "metadata": {},
   "outputs": [],
   "source": [
    "# uniform values for \"alpha\" angle\n",
    "alpha = 2 * np.pi * np.random.uniform(size=(n_trials, 1, dim + 1))\n",
    "\n",
    "# non-uniform values for beta angle\n",
    "u = np.random.uniform(size=(n_trials, 1, dim + 1))\n",
    "beta = appf(u)\n",
    "z = np.sin(beta)\n",
    "r = np.cos(beta)\n",
    "x = r * np.cos(alpha)\n",
    "y = r * np.sin(alpha)"
   ]
  },
  {
   "cell_type": "code",
   "execution_count": 4,
   "metadata": {},
   "outputs": [
    {
     "name": "stdout",
     "output_type": "stream",
     "text": [
      "probability = 0.1245\n"
     ]
    }
   ],
   "source": [
    "# left hand side matrices\n",
    "a = np.concatenate((x, y, z), axis=1)\n",
    "aaa = np.ones((n_trials, 1, dim + 1))\n",
    "a = np.concatenate((a, aaa), axis=1)\n",
    "\n",
    "# right hand side vectors\n",
    "b = np.zeros((n_trials, dim))\n",
    "bbb = np.ones((n_trials, 1))\n",
    "b = np.concatenate((b, bbb), axis=1)\n",
    "\n",
    "# solutions of the linear systems (baricentric coordinates for all n_trials samples)\n",
    "x = np.linalg.solve(a, b)\n",
    "x = x.reshape(n_trials, dim + 1)\n",
    "\n",
    "# are all components non-negative (which means the origin is located inside the corresponding tetrahedron)\n",
    "ind = (x >= 0).all(axis=1)\n",
    "\n",
    "# probability (portion of tetrahedrons containing the origin inside)\n",
    "# 'ind' stands for the indicator function of A,\n",
    "# it contains 1 for event A occurrence, and 0 for the opposite, so mean calculates exactly the ratio we need\n",
    "print('probability = {0:.4f}'.format(ind.mean()))"
   ]
  },
  {
   "cell_type": "markdown",
   "metadata": {},
   "source": [
    "We see that the estimated probability is pretty close to the theoretical value 1/8."
   ]
  },
  {
   "cell_type": "markdown",
   "metadata": {},
   "source": [
    "## Vectorization vs loops"
   ]
  },
  {
   "cell_type": "markdown",
   "metadata": {},
   "source": [
    "Note also that this use of the Monte Carlo method includes solution of 1 million *different* linear systems of equations simultaneously. Solving it one by one would take much longer, as shown below."
   ]
  },
  {
   "cell_type": "code",
   "execution_count": 5,
   "metadata": {},
   "outputs": [
    {
     "name": "stdout",
     "output_type": "stream",
     "text": [
      "(1000000, 4, 4) (1000000, 4)\n"
     ]
    }
   ],
   "source": [
    "print(a.shape, b.shape)"
   ]
  },
  {
   "cell_type": "markdown",
   "metadata": {},
   "source": [
    "### Simultaneous solution"
   ]
  },
  {
   "cell_type": "code",
   "execution_count": 6,
   "metadata": {},
   "outputs": [
    {
     "name": "stdout",
     "output_type": "stream",
     "text": [
      "209 ms ± 4.12 ms per loop (mean ± std. dev. of 7 runs, 1 loop each)\n"
     ]
    }
   ],
   "source": [
    "%timeit x = np.linalg.solve(a, b)"
   ]
  },
  {
   "cell_type": "markdown",
   "metadata": {},
   "source": [
    "### Solving in loop"
   ]
  },
  {
   "cell_type": "code",
   "execution_count": 7,
   "metadata": {},
   "outputs": [],
   "source": [
    "def solve_in_loop(loop_size=1000):\n",
    "    \"\"\" \"\"\"\n",
    "    xx = np.zeros((loop_size, 4))\n",
    "    for i in range(loop_size):\n",
    "        xx[i, :] = np.linalg.solve(a[i, :, :], b[i, :])\n",
    "    return xx"
   ]
  },
  {
   "cell_type": "code",
   "execution_count": 8,
   "metadata": {},
   "outputs": [
    {
     "name": "stdout",
     "output_type": "stream",
     "text": [
      "7.88 s ± 241 ms per loop (mean ± std. dev. of 7 runs, 1 loop each)\n"
     ]
    }
   ],
   "source": [
    "%timeit xx = solve_in_loop(loop_size=1000000)"
   ]
  },
  {
   "cell_type": "markdown",
   "metadata": {},
   "source": [
    "### Conclusion"
   ]
  },
  {
   "cell_type": "markdown",
   "metadata": {},
   "source": [
    "Thus using loops increases time consumption by about 40 times."
   ]
  }
 ],
 "metadata": {
  "kernelspec": {
   "display_name": "Python 3",
   "language": "python",
   "name": "python3"
  },
  "language_info": {
   "codemirror_mode": {
    "name": "ipython",
    "version": 3
   },
   "file_extension": ".py",
   "mimetype": "text/x-python",
   "name": "python",
   "nbconvert_exporter": "python",
   "pygments_lexer": "ipython3",
   "version": "3.7.3"
  }
 },
 "nbformat": 4,
 "nbformat_minor": 4
}
