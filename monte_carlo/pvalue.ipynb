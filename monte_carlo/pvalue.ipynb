{
 "cells": [
  {
   "cell_type": "markdown",
   "metadata": {},
   "source": [
    "# p-value distribution using Monte Carlo simulation"
   ]
  },
  {
   "cell_type": "markdown",
   "metadata": {},
   "source": [
    "Well, in a single sample study p-value is less than the critical level 0.05. Does it necessarily mean that the null hypothesis is incorrect? What about the p-value greater than 0.05?\n",
    "\n",
    "To figure out what's going on we use Monte Carlo method. It consists in simulating large amount (100 thousand in this illustration) samples from the standard normal distribution, and applying t-test for each sample with (a) corrent null hypothesis, (b), (c) - with incorrect null hypotheses, and plotting a histogram of p-values in each case.\n",
    "\n",
    "In this notebook we illustrate distribution of pvalue in case of correct and incorrect null hypothesis, and provide brief comments on the topic."
   ]
  },
  {
   "cell_type": "code",
   "execution_count": 1,
   "metadata": {},
   "outputs": [
    {
     "name": "stdout",
     "output_type": "stream",
     "text": [
      "Populating the interactive namespace from numpy and matplotlib\n"
     ]
    }
   ],
   "source": [
    "import pandas as pd\n",
    "import scipy.stats as ss\n",
    "%pylab inline"
   ]
  },
  {
   "cell_type": "code",
   "execution_count": 2,
   "metadata": {},
   "outputs": [],
   "source": [
    "n_trials = 100000\n",
    "sample_size = 100\n",
    "\n",
    "# simulate 'n_trials' samples of size 'sample_size' from the standard normal distribution\n",
    "x = ss.norm.rvs(size=(sample_size, n_trials))"
   ]
  },
  {
   "cell_type": "markdown",
   "metadata": {},
   "source": [
    "## Null hypothesis is correct"
   ]
  },
  {
   "cell_type": "code",
   "execution_count": 3,
   "metadata": {},
   "outputs": [
    {
     "data": {
      "image/png": "[encoded data removed]",
      "text/plain": [
       "<Figure size 432x288 with 1 Axes>"
      ]
     },
     "metadata": {
      "needs_background": "light"
     },
     "output_type": "display_data"
    }
   ],
   "source": [
    "# true mean as null hypothesis\n",
    "null_hyp_mean = 0.0\n",
    "\n",
    "# implement t-test for mean value\n",
    "res = ss.ttest_1samp(x, null_hyp_mean, axis=0)\n",
    "\n",
    "# extract p-valies for all n_trials simulations\n",
    "pvalues = res[1]\n",
    "\n",
    "# plot a histigram of p-values\n",
    "pd.Series(pvalues).plot.hist(bins=20, width=0.04, density=True);"
   ]
  },
  {
   "cell_type": "code",
   "execution_count": 4,
   "metadata": {},
   "outputs": [
    {
     "name": "stdout",
     "output_type": "stream",
     "text": [
      "probability that p-value is less than 0.05 = 0.0497\n"
     ]
    }
   ],
   "source": [
    "# probability that p-value is less than 0.5\n",
    "p_005 = (pvalues < 0.05).mean()\n",
    "print('probability that p-value is less than 0.05 = {0:.4f}'.format(p_005))"
   ]
  },
  {
   "cell_type": "markdown",
   "metadata": {},
   "source": [
    "**In case the null hypothesis is correct, the p-value distribution is uniform in $(0, 1)$**."
   ]
  },
  {
   "cell_type": "markdown",
   "metadata": {},
   "source": [
    "## Hypothetic mean is greater than the actual one"
   ]
  },
  {
   "cell_type": "code",
   "execution_count": 5,
   "metadata": {},
   "outputs": [
    {
     "data": {
      "image/png": "[encoded data removed]",
      "text/plain": [
       "<Figure size 432x288 with 1 Axes>"
      ]
     },
     "metadata": {
      "needs_background": "light"
     },
     "output_type": "display_data"
    }
   ],
   "source": [
    "# true mean as null hypothesis\n",
    "null_hyp_mean = 0.2\n",
    "\n",
    "# implement t-test for mean value\n",
    "res = ss.ttest_1samp(x, null_hyp_mean, axis=0)\n",
    "\n",
    "# extract p-valies for all n_trials simulations\n",
    "pvalues = res[1]\n",
    "\n",
    "# plot a histigram of p-values\n",
    "pd.Series(pvalues).plot.hist(bins=20, width=0.04, density=True);"
   ]
  },
  {
   "cell_type": "code",
   "execution_count": 6,
   "metadata": {},
   "outputs": [
    {
     "name": "stdout",
     "output_type": "stream",
     "text": [
      "probability that p-value is less than 0.05 = 0.5091\n"
     ]
    }
   ],
   "source": [
    "# probability that p-value is less than 0.5\n",
    "p_005 = (pvalues < 0.05).mean()\n",
    "print('probability that p-value is less than 0.05 = {0:.4f}'.format(p_005))"
   ]
  },
  {
   "cell_type": "markdown",
   "metadata": {},
   "source": [
    "**In this case small p-values are much more likely than large ones**"
   ]
  },
  {
   "cell_type": "markdown",
   "metadata": {},
   "source": [
    "## Hypothetic mean is smaller than the actual one"
   ]
  },
  {
   "cell_type": "code",
   "execution_count": 7,
   "metadata": {},
   "outputs": [
    {
     "data": {
      "image/png": "[encoded data removed]",
      "text/plain": [
       "<Figure size 432x288 with 1 Axes>"
      ]
     },
     "metadata": {
      "needs_background": "light"
     },
     "output_type": "display_data"
    }
   ],
   "source": [
    "# true mean as null hypothesis\n",
    "null_hyp_mean = -0.2\n",
    "\n",
    "# implement t-test for mean value\n",
    "res = ss.ttest_1samp(x, null_hyp_mean, axis=0)\n",
    "\n",
    "# extract p-valies for all n_trials simulations\n",
    "pvalues = res[1]\n",
    "\n",
    "# plot a histigram of p-values\n",
    "pd.Series(pvalues).plot.hist(bins=20, width=0.04, density=True);"
   ]
  },
  {
   "cell_type": "code",
   "execution_count": 8,
   "metadata": {},
   "outputs": [
    {
     "name": "stdout",
     "output_type": "stream",
     "text": [
      "probability that p-value is less than 0.05 = 0.5102\n"
     ]
    }
   ],
   "source": [
    "# probability that p-value is less than 0.5\n",
    "p_005 = (pvalues < 0.05).mean()\n",
    "print('probability that p-value is less than 0.05 = {0:.4f}'.format(p_005))"
   ]
  },
  {
   "cell_type": "markdown",
   "metadata": {},
   "source": [
    "**In this case small p-values are also much more likely than large ones**"
   ]
  },
  {
   "cell_type": "markdown",
   "metadata": {},
   "source": [
    "## Conclusion"
   ]
  },
  {
   "cell_type": "markdown",
   "metadata": {},
   "source": [
    "In case the null hypothesis is correct, the p-value has uniform distribution in (0,1). In case the null hypothesis is incorrect, the p-value is much more likely to take small values. However, **in neither case p-value alone allows making definite conclusion on hypothesis correctness**."
   ]
  }
 ],
 "metadata": {
  "kernelspec": {
   "display_name": "Python 3",
   "language": "python",
   "name": "python3"
  },
  "language_info": {
   "codemirror_mode": {
    "name": "ipython",
    "version": 3
   },
   "file_extension": ".py",
   "mimetype": "text/x-python",
   "name": "python",
   "nbconvert_exporter": "python",
   "pygments_lexer": "ipython3",
   "version": "3.7.3"
  }
 },
 "nbformat": 4,
 "nbformat_minor": 4
}
